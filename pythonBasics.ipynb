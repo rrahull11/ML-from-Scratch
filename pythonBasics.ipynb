{
 "cells": [
  {
   "cell_type": "code",
   "execution_count": 16,
   "id": "690c803c-757b-4e8a-9b41-e85a7b051005",
   "metadata": {},
   "outputs": [],
   "source": [
    "class person():\n",
    "    def __init__(self, name, age, color):\n",
    "        self.name = name\n",
    "        self.age = age\n",
    "        self.color = color\n",
    "\n",
    "    def yearOfBirth(self):\n",
    "        pass"
   ]
  },
  {
   "cell_type": "code",
   "execution_count": 2,
   "id": "abbbdade-6218-4c0f-aecc-4e563d646bd0",
   "metadata": {},
   "outputs": [],
   "source": [
    "new_person = person('Rahul',78,'Black')"
   ]
  },
  {
   "cell_type": "code",
   "execution_count": 5,
   "id": "1186a523-936f-4d94-b605-94a1ed2478a6",
   "metadata": {},
   "outputs": [
    {
     "data": {
      "text/plain": [
       "78"
      ]
     },
     "execution_count": 5,
     "metadata": {},
     "output_type": "execute_result"
    }
   ],
   "source": [
    "new_person.age"
   ]
  },
  {
   "cell_type": "code",
   "execution_count": 17,
   "id": "64032169-5b90-4307-b276-091311db9d46",
   "metadata": {},
   "outputs": [],
   "source": [
    "class chil(person):\n",
    "    def __init__(self, name, age, color, mission_length):\n",
    "        self.mission_length = mission_length\n",
    "    def show(self):\n",
    "        print('My fav color is {}'.format(self.color))"
   ]
  },
  {
   "cell_type": "code",
   "execution_count": 18,
   "id": "7a343b11-391c-4e9a-889f-c2fd5587b522",
   "metadata": {},
   "outputs": [],
   "source": [
    "obj = chil('Rahul',65,'Levender',9)"
   ]
  },
  {
   "cell_type": "code",
   "execution_count": 20,
   "id": "e8243c18-41e8-44f4-b15c-a54766aaed8b",
   "metadata": {},
   "outputs": [],
   "source": [
    "obj.yearOfBirth()"
   ]
  },
  {
   "cell_type": "markdown",
   "id": "9dab7a2a-461d-43e8-b094-2e53597479c8",
   "metadata": {},
   "source": [
    "# Modules"
   ]
  },
  {
   "cell_type": "code",
   "execution_count": 21,
   "id": "6c84fe86-3e01-472a-a97a-fe7a05add364",
   "metadata": {},
   "outputs": [],
   "source": [
    "from helpers import launch"
   ]
  },
  {
   "cell_type": "code",
   "execution_count": 24,
   "id": "f329038d-3b8b-4bed-93f1-da23c46c0878",
   "metadata": {},
   "outputs": [
    {
     "data": {
      "text/plain": [
       "123456789"
      ]
     },
     "execution_count": 24,
     "metadata": {},
     "output_type": "execute_result"
    }
   ],
   "source": [
    "launch()"
   ]
  },
  {
   "cell_type": "markdown",
   "id": "334035dd-ccbc-432c-8c53-c753da39ac91",
   "metadata": {},
   "source": [
    "# Working with packages"
   ]
  },
  {
   "cell_type": "code",
   "execution_count": 25,
   "id": "8be5e5c8-8736-4170-b580-f92830107760",
   "metadata": {},
   "outputs": [
    {
     "name": "stdout",
     "output_type": "stream",
     "text": [
      "Requirement already satisfied: requests in c:\\users\\rahul\\appdata\\local\\programs\\python\\python310\\lib\\site-packages (2.31.0)\n",
      "Requirement already satisfied: charset-normalizer<4,>=2 in c:\\users\\rahul\\appdata\\local\\programs\\python\\python310\\lib\\site-packages (from requests) (3.2.0)\n",
      "Requirement already satisfied: idna<4,>=2.5 in c:\\users\\rahul\\appdata\\local\\programs\\python\\python310\\lib\\site-packages (from requests) (3.4)\n",
      "Requirement already satisfied: urllib3<3,>=1.21.1 in c:\\users\\rahul\\appdata\\local\\programs\\python\\python310\\lib\\site-packages (from requests) (2.0.4)\n",
      "Requirement already satisfied: certifi>=2017.4.17 in c:\\users\\rahul\\appdata\\local\\programs\\python\\python310\\lib\\site-packages (from requests) (2023.7.22)\n"
     ]
    }
   ],
   "source": [
    "!pip install requests"
   ]
  },
  {
   "cell_type": "code",
   "execution_count": 26,
   "id": "bdcc2678-b541-48b3-ba2a-51e8b0d693f7",
   "metadata": {
    "scrolled": true
   },
   "outputs": [
    {
     "name": "stdout",
     "output_type": "stream",
     "text": [
      "Package                   Version\n",
      "------------------------- ------------\n",
      "altair                    5.2.0\n",
      "anyio                     4.0.0\n",
      "argon2-cffi               23.1.0\n",
      "argon2-cffi-bindings      21.2.0\n",
      "arrow                     1.2.3\n",
      "asttokens                 2.4.0\n",
      "async-lru                 2.0.4\n",
      "attrs                     23.1.0\n",
      "Babel                     2.12.1\n",
      "backcall                  0.2.0\n",
      "beautifulsoup4            4.12.2\n",
      "bleach                    6.0.0\n",
      "blinker                   1.7.0\n",
      "cachetools                5.3.2\n",
      "certifi                   2023.7.22\n",
      "cffi                      1.15.1\n",
      "charset-normalizer        3.2.0\n",
      "click                     8.1.7\n",
      "colorama                  0.4.6\n",
      "comm                      0.1.4\n",
      "contourpy                 1.1.0\n",
      "cycler                    0.11.0\n",
      "debugpy                   1.8.0\n",
      "decorator                 5.1.1\n",
      "defusedxml                0.7.1\n",
      "docopt                    0.6.2\n",
      "exceptiongroup            1.1.3\n",
      "executing                 1.2.0\n",
      "fastjsonschema            2.18.0\n",
      "filelock                  3.12.3\n",
      "fonttools                 4.42.1\n",
      "fqdn                      1.5.1\n",
      "gitdb                     4.0.11\n",
      "GitPython                 3.1.41\n",
      "idna                      3.4\n",
      "importlib-metadata        7.0.1\n",
      "ipykernel                 6.25.2\n",
      "ipython                   8.15.0\n",
      "isoduration               20.11.0\n",
      "jedi                      0.19.0\n",
      "Jinja2                    3.1.2\n",
      "json5                     0.9.14\n",
      "jsonpointer               2.4\n",
      "jsonschema                4.19.0\n",
      "jsonschema-specifications 2023.7.1\n",
      "jupyter_client            8.3.1\n",
      "jupyter_core              5.3.1\n",
      "jupyter-events            0.7.0\n",
      "jupyter-lsp               2.2.0\n",
      "jupyter_server            2.7.3\n",
      "jupyter_server_terminals  0.4.4\n",
      "jupyterlab                4.0.6\n",
      "jupyterlab-pygments       0.2.2\n",
      "jupyterlab_server         2.25.0\n",
      "kiwisolver                1.4.5\n",
      "markdown-it-py            3.0.0\n",
      "MarkupSafe                2.1.3\n",
      "matplotlib                3.7.3\n",
      "matplotlib-inline         0.1.6\n",
      "mdurl                     0.1.2\n",
      "mistune                   3.0.1\n",
      "mpmath                    1.3.0\n",
      "nbclient                  0.8.0\n",
      "nbconvert                 7.8.0\n",
      "nbformat                  5.9.2\n",
      "nest-asyncio              1.5.8\n",
      "networkx                  3.1\n",
      "notebook                  7.0.3\n",
      "notebook_shim             0.2.3\n",
      "numpy                     1.23.4\n",
      "opencv-contrib-python     4.6.0.66\n",
      "opencv-python             4.6.0.66\n",
      "overrides                 7.4.0\n",
      "packaging                 23.1\n",
      "pandas                    2.1.0\n",
      "pandocfilters             1.5.0\n",
      "parso                     0.8.3\n",
      "pickleshare               0.7.5\n",
      "Pillow                    10.0.0\n",
      "pip                       23.3.2\n",
      "pipreqs                   0.4.13\n",
      "platformdirs              3.10.0\n",
      "prometheus-client         0.17.1\n",
      "prompt-toolkit            3.0.39\n",
      "protobuf                  4.25.2\n",
      "psutil                    5.9.5\n",
      "pure-eval                 0.2.2\n",
      "py-cpuinfo                9.0.0\n",
      "pyarrow                   14.0.2\n",
      "pycparser                 2.21\n",
      "pydeck                    0.8.1b0\n",
      "Pygments                  2.16.1\n",
      "pyparsing                 3.1.1\n",
      "pyproject-toml            0.0.10\n",
      "pytesseract               0.3.10\n",
      "python-dateutil           2.8.2\n",
      "python-json-logger        2.0.7\n",
      "pytz                      2023.3.post1\n",
      "pywin32                   306\n",
      "pywinpty                  2.0.11\n",
      "PyYAML                    6.0.1\n",
      "pyzmq                     25.1.1\n",
      "referencing               0.30.2\n",
      "requests                  2.31.0\n",
      "rfc3339-validator         0.1.4\n",
      "rfc3986-validator         0.1.1\n",
      "rich                      13.7.0\n",
      "rpds-py                   0.10.2\n",
      "scipy                     1.11.2\n",
      "seaborn                   0.12.2\n",
      "Send2Trash                1.8.2\n",
      "setuptools                63.2.0\n",
      "six                       1.16.0\n",
      "smmap                     5.0.1\n",
      "sniffio                   1.3.0\n",
      "soupsieve                 2.5\n",
      "stack-data                0.6.2\n",
      "streamlit                 1.30.0\n",
      "sympy                     1.12\n",
      "tenacity                  8.2.3\n",
      "terminado                 0.17.1\n",
      "tesseract                 0.1.3\n",
      "tinycss2                  1.2.1\n",
      "toml                      0.10.2\n",
      "tomli                     2.0.1\n",
      "toolz                     0.12.0\n",
      "torch                     2.0.1\n",
      "torchvision               0.15.2\n",
      "tornado                   6.3.3\n",
      "tqdm                      4.66.1\n",
      "traitlets                 5.10.0\n",
      "typing_extensions         4.7.1\n",
      "tzdata                    2023.3\n",
      "tzlocal                   5.2\n",
      "ultralytics               8.0.176\n",
      "uri-template              1.3.0\n",
      "urllib3                   2.0.4\n",
      "validators                0.22.0\n",
      "watchdog                  3.0.0\n",
      "wcwidth                   0.2.6\n",
      "webcolors                 1.13\n",
      "webencodings              0.5.1\n",
      "websocket-client          1.6.3\n",
      "wheel                     0.41.2\n",
      "yarg                      0.1.9\n",
      "zipp                      3.17.0\n"
     ]
    }
   ],
   "source": [
    "!pip list"
   ]
  },
  {
   "cell_type": "code",
   "execution_count": 27,
   "id": "190ded50-d487-48bc-9aff-eea7fb7c37dd",
   "metadata": {},
   "outputs": [],
   "source": [
    "import requests"
   ]
  },
  {
   "cell_type": "code",
   "execution_count": 28,
   "id": "e5fdcb0b-c02a-4f17-953a-2a60bf734c5f",
   "metadata": {},
   "outputs": [
    {
     "data": {
      "text/plain": [
       "\u001b[1;31mSignature:\u001b[0m \u001b[0mrequests\u001b[0m\u001b[1;33m.\u001b[0m\u001b[0mget\u001b[0m\u001b[1;33m(\u001b[0m\u001b[0murl\u001b[0m\u001b[1;33m,\u001b[0m \u001b[0mparams\u001b[0m\u001b[1;33m=\u001b[0m\u001b[1;32mNone\u001b[0m\u001b[1;33m,\u001b[0m \u001b[1;33m**\u001b[0m\u001b[0mkwargs\u001b[0m\u001b[1;33m)\u001b[0m\u001b[1;33m\u001b[0m\u001b[1;33m\u001b[0m\u001b[0m\n",
       "\u001b[1;31mSource:\u001b[0m   \n",
       "\u001b[1;32mdef\u001b[0m \u001b[0mget\u001b[0m\u001b[1;33m(\u001b[0m\u001b[0murl\u001b[0m\u001b[1;33m,\u001b[0m \u001b[0mparams\u001b[0m\u001b[1;33m=\u001b[0m\u001b[1;32mNone\u001b[0m\u001b[1;33m,\u001b[0m \u001b[1;33m**\u001b[0m\u001b[0mkwargs\u001b[0m\u001b[1;33m)\u001b[0m\u001b[1;33m:\u001b[0m\u001b[1;33m\n",
       "\u001b[0m    \u001b[1;34mr\"\"\"Sends a GET request.\n",
       "\n",
       "    :param url: URL for the new :class:`Request` object.\n",
       "    :param params: (optional) Dictionary, list of tuples or bytes to send\n",
       "        in the query string for the :class:`Request`.\n",
       "    :param \\*\\*kwargs: Optional arguments that ``request`` takes.\n",
       "    :return: :class:`Response <Response>` object\n",
       "    :rtype: requests.Response\n",
       "    \"\"\"\u001b[0m\u001b[1;33m\n",
       "\u001b[0m\u001b[1;33m\n",
       "\u001b[0m    \u001b[1;32mreturn\u001b[0m \u001b[0mrequest\u001b[0m\u001b[1;33m(\u001b[0m\u001b[1;34m\"get\"\u001b[0m\u001b[1;33m,\u001b[0m \u001b[0murl\u001b[0m\u001b[1;33m,\u001b[0m \u001b[0mparams\u001b[0m\u001b[1;33m=\u001b[0m\u001b[0mparams\u001b[0m\u001b[1;33m,\u001b[0m \u001b[1;33m**\u001b[0m\u001b[0mkwargs\u001b[0m\u001b[1;33m)\u001b[0m\u001b[1;33m\u001b[0m\u001b[1;33m\u001b[0m\u001b[0m\n",
       "\u001b[1;31mFile:\u001b[0m      c:\\users\\rahul\\appdata\\local\\programs\\python\\python310\\lib\\site-packages\\requests\\api.py\n",
       "\u001b[1;31mType:\u001b[0m      function"
      ]
     },
     "metadata": {},
     "output_type": "display_data"
    }
   ],
   "source": [
    "requests.get??"
   ]
  },
  {
   "cell_type": "code",
   "execution_count": 31,
   "id": "9d1f68fa-516c-48f7-9f9c-b54161407d34",
   "metadata": {},
   "outputs": [],
   "source": [
    "joke_url = 'https://icanhazdadjoke.com'\n",
    "iss_url = 'https://api.wheretheiss.at/v1/satellites/25544'"
   ]
  },
  {
   "cell_type": "code",
   "execution_count": 44,
   "id": "734afe31-eed2-4d39-96a8-33dabc125c29",
   "metadata": {},
   "outputs": [],
   "source": [
    "my_header = {'Accept':'application/json'}\n",
    "\n",
    "#api call\n",
    "results = requests.get(joke_url, headers = my_header)"
   ]
  },
  {
   "cell_type": "code",
   "execution_count": 45,
   "id": "4a66798a-033d-4a1d-8e34-a79e3ae76298",
   "metadata": {},
   "outputs": [
    {
     "data": {
      "text/plain": [
       "{'id': 'W82EtW01wkb',\n",
       " 'joke': 'What happens when you anger a brain surgeon? They will give you a piece of your mind.',\n",
       " 'status': 200}"
      ]
     },
     "execution_count": 45,
     "metadata": {},
     "output_type": "execute_result"
    }
   ],
   "source": [
    "results.json()"
   ]
  },
  {
   "cell_type": "raw",
   "id": "5485e11d-88f9-42d5-9044-6af58677a596",
   "metadata": {},
   "source": [
    "    "
   ]
  },
  {
   "cell_type": "code",
   "execution_count": 46,
   "id": "24ce5219-15d4-41f6-bd69-567d3c272155",
   "metadata": {},
   "outputs": [],
   "source": [
    "iss_results = requests.get(iss_url,headers=my_header)"
   ]
  },
  {
   "cell_type": "code",
   "execution_count": 47,
   "id": "bad98c8c-326a-4031-a45e-8bfff1dceea0",
   "metadata": {},
   "outputs": [
    {
     "data": {
      "text/plain": [
       "<Response [200]>"
      ]
     },
     "execution_count": 47,
     "metadata": {},
     "output_type": "execute_result"
    }
   ],
   "source": [
    "iss_results"
   ]
  },
  {
   "cell_type": "code",
   "execution_count": null,
   "id": "e907f267-c2b3-4f04-af26-9447dc17eeab",
   "metadata": {},
   "outputs": [],
   "source": [
    "iss_results."
   ]
  }
 ],
 "metadata": {
  "kernelspec": {
   "display_name": "Python 3 (ipykernel)",
   "language": "python",
   "name": "python3"
  },
  "language_info": {
   "codemirror_mode": {
    "name": "ipython",
    "version": 3
   },
   "file_extension": ".py",
   "mimetype": "text/x-python",
   "name": "python",
   "nbconvert_exporter": "python",
   "pygments_lexer": "ipython3",
   "version": "3.10.8"
  }
 },
 "nbformat": 4,
 "nbformat_minor": 5
}
